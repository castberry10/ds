{
 "cells": [
  {
   "cell_type": "code",
   "execution_count": 1,
   "id": "fee300e3",
   "metadata": {
    "_cell_guid": "b1076dfc-b9ad-4769-8c92-a6c4dae69d19",
    "_uuid": "8f2839f25d086af736a60e9eeb907d3b93b6e0e5",
    "execution": {
     "iopub.execute_input": "2025-03-22T04:58:48.706796Z",
     "iopub.status.busy": "2025-03-22T04:58:48.706375Z",
     "iopub.status.idle": "2025-03-22T04:58:49.487741Z",
     "shell.execute_reply": "2025-03-22T04:58:49.486664Z"
    },
    "papermill": {
     "duration": 0.787177,
     "end_time": "2025-03-22T04:58:49.489188",
     "exception": false,
     "start_time": "2025-03-22T04:58:48.702011",
     "status": "completed"
    },
    "tags": []
   },
   "outputs": [
    {
     "name": "stdout",
     "output_type": "stream",
     "text": [
      "/kaggle/input/non-fulfillment/sample_submission.csv\n",
      "/kaggle/input/non-fulfillment/train.csv\n",
      "/kaggle/input/non-fulfillment/test.csv\n"
     ]
    }
   ],
   "source": [
    "# This Python 3 environment comes with many helpful analytics libraries installed\n",
    "# It is defined by the kaggle/python Docker image: https://github.com/kaggle/docker-python\n",
    "# For example, here's several helpful packages to load\n",
    "\n",
    "import numpy as np # linear algebra\n",
    "import pandas as pd # data processing, CSV file I/O (e.g. pd.read_csv)\n",
    "\n",
    "# Input data files are available in the read-only \"../input/\" directory\n",
    "# For example, running this (by clicking run or pressing Shift+Enter) will list all files under the input directory\n",
    "\n",
    "import os\n",
    "for dirname, _, filenames in os.walk('/kaggle/input'):\n",
    "    for filename in filenames:\n",
    "        print(os.path.join(dirname, filename))\n",
    "\n",
    "# You can write up to 20GB to the current directory (/kaggle/working/) that gets preserved as output when you create a version using \"Save & Run All\" \n",
    "# You can also write temporary files to /kaggle/temp/, but they won't be saved outside of the current session"
   ]
  },
  {
   "cell_type": "code",
   "execution_count": 2,
   "id": "e12d5a62",
   "metadata": {
    "execution": {
     "iopub.execute_input": "2025-03-22T04:58:49.495835Z",
     "iopub.status.busy": "2025-03-22T04:58:49.495405Z",
     "iopub.status.idle": "2025-03-22T04:58:50.955646Z",
     "shell.execute_reply": "2025-03-22T04:58:50.954812Z"
    },
    "papermill": {
     "duration": 1.465336,
     "end_time": "2025-03-22T04:58:50.957487",
     "exception": false,
     "start_time": "2025-03-22T04:58:49.492151",
     "status": "completed"
    },
    "tags": []
   },
   "outputs": [],
   "source": [
    "import pandas as pd\n",
    "import numpy as np\n",
    "from sklearn.model_selection import train_test_split\n",
    "from sklearn.metrics import f1_score\n",
    "from sklearn.preprocessing import OneHotEncoder\n",
    "from xgboost import XGBClassifier\n",
    "import warnings\n",
    "warnings.filterwarnings(action='ignore')"
   ]
  },
  {
   "cell_type": "code",
   "execution_count": 3,
   "id": "ce282844",
   "metadata": {
    "execution": {
     "iopub.execute_input": "2025-03-22T04:58:50.963964Z",
     "iopub.status.busy": "2025-03-22T04:58:50.963526Z",
     "iopub.status.idle": "2025-03-22T04:58:51.060557Z",
     "shell.execute_reply": "2025-03-22T04:58:51.059742Z"
    },
    "papermill": {
     "duration": 0.102211,
     "end_time": "2025-03-22T04:58:51.062363",
     "exception": false,
     "start_time": "2025-03-22T04:58:50.960152",
     "status": "completed"
    },
    "tags": []
   },
   "outputs": [],
   "source": [
    "# 학습/평가 데이터 로드\n",
    "# train_df = pd.read_csv('./train.csv').drop(columns=['UID'])\n",
    "# test_df = pd.read_csv('./test.csv').drop(columns=['UID'])\n",
    "train_df = pd.read_csv('/kaggle/input/non-fulfillment/train.csv').drop(columns=['UID'])\n",
    "test_df = pd.read_csv('/kaggle/input/non-fulfillment/test.csv').drop(columns=['UID'])"
   ]
  },
  {
   "cell_type": "code",
   "execution_count": 4,
   "id": "6ef285ee",
   "metadata": {
    "execution": {
     "iopub.execute_input": "2025-03-22T04:58:51.069412Z",
     "iopub.status.busy": "2025-03-22T04:58:51.069019Z",
     "iopub.status.idle": "2025-03-22T04:58:51.107412Z",
     "shell.execute_reply": "2025-03-22T04:58:51.106586Z"
    },
    "papermill": {
     "duration": 0.043542,
     "end_time": "2025-03-22T04:58:51.108979",
     "exception": false,
     "start_time": "2025-03-22T04:58:51.065437",
     "status": "completed"
    },
    "tags": []
   },
   "outputs": [],
   "source": [
    "categorical_col = [\n",
    "    '주거 형태',\n",
    "    '현재 직장 근속 연수',\n",
    "    '대출 목적',\n",
    "    '대출 상환 기간'\n",
    "]\n",
    "\n",
    "# OneHotEncoder 초기화\n",
    "encoder = OneHotEncoder(sparse=False, handle_unknown='ignore')\n",
    "\n",
    "# 훈련 데이터에 대해 인코더 학습\n",
    "encoder.fit(train_df[categorical_col])\n",
    "\n",
    "# 훈련 데이터와 테스트 데이터 변환\n",
    "train_encoded = encoder.transform(train_df[categorical_col])\n",
    "test_encoded = encoder.transform(test_df[categorical_col])\n",
    "\n",
    "# One-hot encoding 결과를 데이터프레임으로 변환\n",
    "train_encoded_df = pd.DataFrame(train_encoded, columns=encoder.get_feature_names_out(categorical_col))\n",
    "test_encoded_df = pd.DataFrame(test_encoded, columns=encoder.get_feature_names_out(categorical_col))\n",
    "\n",
    "# 인코딩된 결과를 원래 데이터에 적용\n",
    "train_df = pd.concat([train_df.drop(columns=categorical_col).reset_index(drop=True), train_encoded_df], axis=1)\n",
    "test_df = pd.concat([test_df.drop(columns=categorical_col).reset_index(drop=True), test_encoded_df], axis=1)"
   ]
  },
  {
   "cell_type": "code",
   "execution_count": 5,
   "id": "0be08549",
   "metadata": {
    "execution": {
     "iopub.execute_input": "2025-03-22T04:58:51.115097Z",
     "iopub.status.busy": "2025-03-22T04:58:51.114823Z",
     "iopub.status.idle": "2025-03-22T04:58:51.128176Z",
     "shell.execute_reply": "2025-03-22T04:58:51.127355Z"
    },
    "papermill": {
     "duration": 0.018138,
     "end_time": "2025-03-22T04:58:51.129867",
     "exception": false,
     "start_time": "2025-03-22T04:58:51.111729",
     "status": "completed"
    },
    "tags": []
   },
   "outputs": [],
   "source": [
    "X_train, X_val, y_train, y_val = train_test_split(\n",
    "    train_df.drop(columns=['채무 불이행 여부']), \n",
    "    train_df['채무 불이행 여부'], \n",
    "    test_size=0.2, \n",
    "    random_state=42\n",
    ")"
   ]
  },
  {
   "cell_type": "code",
   "execution_count": 6,
   "id": "9a56ca21",
   "metadata": {
    "execution": {
     "iopub.execute_input": "2025-03-22T04:58:51.136154Z",
     "iopub.status.busy": "2025-03-22T04:58:51.135875Z",
     "iopub.status.idle": "2025-03-22T04:58:51.573991Z",
     "shell.execute_reply": "2025-03-22T04:58:51.573107Z"
    },
    "papermill": {
     "duration": 0.44304,
     "end_time": "2025-03-22T04:58:51.575737",
     "exception": false,
     "start_time": "2025-03-22T04:58:51.132697",
     "status": "completed"
    },
    "tags": []
   },
   "outputs": [
    {
     "name": "stdout",
     "output_type": "stream",
     "text": [
      "[0]\tvalidation_0-auc:0.73056\tvalidation_1-auc:0.67897\n",
      "[1]\tvalidation_0-auc:0.74434\tvalidation_1-auc:0.69985\n",
      "[2]\tvalidation_0-auc:0.75222\tvalidation_1-auc:0.70013\n",
      "[3]\tvalidation_0-auc:0.75962\tvalidation_1-auc:0.70342\n",
      "[4]\tvalidation_0-auc:0.76341\tvalidation_1-auc:0.70646\n",
      "[5]\tvalidation_0-auc:0.76785\tvalidation_1-auc:0.70622\n",
      "[6]\tvalidation_0-auc:0.77482\tvalidation_1-auc:0.71070\n",
      "[7]\tvalidation_0-auc:0.78105\tvalidation_1-auc:0.71547\n",
      "[8]\tvalidation_0-auc:0.78692\tvalidation_1-auc:0.71940\n",
      "[9]\tvalidation_0-auc:0.78952\tvalidation_1-auc:0.72130\n",
      "[10]\tvalidation_0-auc:0.79418\tvalidation_1-auc:0.72203\n",
      "[11]\tvalidation_0-auc:0.79838\tvalidation_1-auc:0.72385\n",
      "[12]\tvalidation_0-auc:0.80065\tvalidation_1-auc:0.72424\n",
      "[13]\tvalidation_0-auc:0.80335\tvalidation_1-auc:0.72626\n",
      "[14]\tvalidation_0-auc:0.80676\tvalidation_1-auc:0.72740\n",
      "[15]\tvalidation_0-auc:0.80895\tvalidation_1-auc:0.72852\n",
      "[16]\tvalidation_0-auc:0.81204\tvalidation_1-auc:0.72941\n",
      "[17]\tvalidation_0-auc:0.81473\tvalidation_1-auc:0.72946\n",
      "[18]\tvalidation_0-auc:0.81685\tvalidation_1-auc:0.72905\n",
      "[19]\tvalidation_0-auc:0.81869\tvalidation_1-auc:0.72977\n",
      "[20]\tvalidation_0-auc:0.82021\tvalidation_1-auc:0.73020\n",
      "[21]\tvalidation_0-auc:0.82125\tvalidation_1-auc:0.73162\n",
      "[22]\tvalidation_0-auc:0.82402\tvalidation_1-auc:0.73140\n",
      "[23]\tvalidation_0-auc:0.82539\tvalidation_1-auc:0.73163\n",
      "[24]\tvalidation_0-auc:0.82600\tvalidation_1-auc:0.73197\n",
      "[25]\tvalidation_0-auc:0.82726\tvalidation_1-auc:0.73258\n",
      "[26]\tvalidation_0-auc:0.82951\tvalidation_1-auc:0.73315\n",
      "[27]\tvalidation_0-auc:0.83131\tvalidation_1-auc:0.73335\n",
      "[28]\tvalidation_0-auc:0.83250\tvalidation_1-auc:0.73354\n",
      "[29]\tvalidation_0-auc:0.83400\tvalidation_1-auc:0.73341\n",
      "[30]\tvalidation_0-auc:0.83443\tvalidation_1-auc:0.73355\n",
      "[31]\tvalidation_0-auc:0.83609\tvalidation_1-auc:0.73433\n",
      "[32]\tvalidation_0-auc:0.83647\tvalidation_1-auc:0.73460\n",
      "[33]\tvalidation_0-auc:0.83924\tvalidation_1-auc:0.73496\n",
      "[34]\tvalidation_0-auc:0.84098\tvalidation_1-auc:0.73547\n",
      "[35]\tvalidation_0-auc:0.84313\tvalidation_1-auc:0.73630\n",
      "[36]\tvalidation_0-auc:0.84368\tvalidation_1-auc:0.73631\n",
      "[37]\tvalidation_0-auc:0.84419\tvalidation_1-auc:0.73651\n",
      "[38]\tvalidation_0-auc:0.84474\tvalidation_1-auc:0.73659\n",
      "[39]\tvalidation_0-auc:0.84559\tvalidation_1-auc:0.73722\n",
      "[40]\tvalidation_0-auc:0.84661\tvalidation_1-auc:0.73718\n",
      "[41]\tvalidation_0-auc:0.84690\tvalidation_1-auc:0.73704\n",
      "[42]\tvalidation_0-auc:0.84891\tvalidation_1-auc:0.73692\n",
      "[43]\tvalidation_0-auc:0.85047\tvalidation_1-auc:0.73762\n",
      "[44]\tvalidation_0-auc:0.85311\tvalidation_1-auc:0.73685\n",
      "[45]\tvalidation_0-auc:0.85338\tvalidation_1-auc:0.73635\n",
      "[46]\tvalidation_0-auc:0.85395\tvalidation_1-auc:0.73631\n",
      "[47]\tvalidation_0-auc:0.85449\tvalidation_1-auc:0.73621\n",
      "[48]\tvalidation_0-auc:0.85500\tvalidation_1-auc:0.73644\n",
      "[49]\tvalidation_0-auc:0.85674\tvalidation_1-auc:0.73670\n",
      "[50]\tvalidation_0-auc:0.85790\tvalidation_1-auc:0.73606\n",
      "[51]\tvalidation_0-auc:0.85912\tvalidation_1-auc:0.73604\n",
      "[52]\tvalidation_0-auc:0.85946\tvalidation_1-auc:0.73564\n",
      "[53]\tvalidation_0-auc:0.86134\tvalidation_1-auc:0.73492\n"
     ]
    },
    {
     "data": {
      "text/html": [
       "<style>#sk-container-id-1 {color: black;background-color: white;}#sk-container-id-1 pre{padding: 0;}#sk-container-id-1 div.sk-toggleable {background-color: white;}#sk-container-id-1 label.sk-toggleable__label {cursor: pointer;display: block;width: 100%;margin-bottom: 0;padding: 0.3em;box-sizing: border-box;text-align: center;}#sk-container-id-1 label.sk-toggleable__label-arrow:before {content: \"▸\";float: left;margin-right: 0.25em;color: #696969;}#sk-container-id-1 label.sk-toggleable__label-arrow:hover:before {color: black;}#sk-container-id-1 div.sk-estimator:hover label.sk-toggleable__label-arrow:before {color: black;}#sk-container-id-1 div.sk-toggleable__content {max-height: 0;max-width: 0;overflow: hidden;text-align: left;background-color: #f0f8ff;}#sk-container-id-1 div.sk-toggleable__content pre {margin: 0.2em;color: black;border-radius: 0.25em;background-color: #f0f8ff;}#sk-container-id-1 input.sk-toggleable__control:checked~div.sk-toggleable__content {max-height: 200px;max-width: 100%;overflow: auto;}#sk-container-id-1 input.sk-toggleable__control:checked~label.sk-toggleable__label-arrow:before {content: \"▾\";}#sk-container-id-1 div.sk-estimator input.sk-toggleable__control:checked~label.sk-toggleable__label {background-color: #d4ebff;}#sk-container-id-1 div.sk-label input.sk-toggleable__control:checked~label.sk-toggleable__label {background-color: #d4ebff;}#sk-container-id-1 input.sk-hidden--visually {border: 0;clip: rect(1px 1px 1px 1px);clip: rect(1px, 1px, 1px, 1px);height: 1px;margin: -1px;overflow: hidden;padding: 0;position: absolute;width: 1px;}#sk-container-id-1 div.sk-estimator {font-family: monospace;background-color: #f0f8ff;border: 1px dotted black;border-radius: 0.25em;box-sizing: border-box;margin-bottom: 0.5em;}#sk-container-id-1 div.sk-estimator:hover {background-color: #d4ebff;}#sk-container-id-1 div.sk-parallel-item::after {content: \"\";width: 100%;border-bottom: 1px solid gray;flex-grow: 1;}#sk-container-id-1 div.sk-label:hover label.sk-toggleable__label {background-color: #d4ebff;}#sk-container-id-1 div.sk-serial::before {content: \"\";position: absolute;border-left: 1px solid gray;box-sizing: border-box;top: 0;bottom: 0;left: 50%;z-index: 0;}#sk-container-id-1 div.sk-serial {display: flex;flex-direction: column;align-items: center;background-color: white;padding-right: 0.2em;padding-left: 0.2em;position: relative;}#sk-container-id-1 div.sk-item {position: relative;z-index: 1;}#sk-container-id-1 div.sk-parallel {display: flex;align-items: stretch;justify-content: center;background-color: white;position: relative;}#sk-container-id-1 div.sk-item::before, #sk-container-id-1 div.sk-parallel-item::before {content: \"\";position: absolute;border-left: 1px solid gray;box-sizing: border-box;top: 0;bottom: 0;left: 50%;z-index: -1;}#sk-container-id-1 div.sk-parallel-item {display: flex;flex-direction: column;z-index: 1;position: relative;background-color: white;}#sk-container-id-1 div.sk-parallel-item:first-child::after {align-self: flex-end;width: 50%;}#sk-container-id-1 div.sk-parallel-item:last-child::after {align-self: flex-start;width: 50%;}#sk-container-id-1 div.sk-parallel-item:only-child::after {width: 0;}#sk-container-id-1 div.sk-dashed-wrapped {border: 1px dashed gray;margin: 0 0.4em 0.5em 0.4em;box-sizing: border-box;padding-bottom: 0.4em;background-color: white;}#sk-container-id-1 div.sk-label label {font-family: monospace;font-weight: bold;display: inline-block;line-height: 1.2em;}#sk-container-id-1 div.sk-label-container {text-align: center;}#sk-container-id-1 div.sk-container {/* jupyter's `normalize.less` sets `[hidden] { display: none; }` but bootstrap.min.css set `[hidden] { display: none !important; }` so we also need the `!important` here to be able to override the default hidden behavior on the sphinx rendered scikit-learn.org. See: https://github.com/scikit-learn/scikit-learn/issues/21755 */display: inline-block !important;position: relative;}#sk-container-id-1 div.sk-text-repr-fallback {display: none;}</style><div id=\"sk-container-id-1\" class=\"sk-top-container\"><div class=\"sk-text-repr-fallback\"><pre>XGBClassifier(base_score=None, booster=None, callbacks=None,\n",
       "              colsample_bylevel=None, colsample_bynode=None,\n",
       "              colsample_bytree=None, device=None, early_stopping_rounds=None,\n",
       "              enable_categorical=False, eval_metric=&#x27;auc&#x27;, feature_types=None,\n",
       "              gamma=None, grow_policy=None, importance_type=None,\n",
       "              interaction_constraints=None, learning_rate=0.15, max_bin=None,\n",
       "              max_cat_threshold=None, max_cat_to_onehot=None,\n",
       "              max_delta_step=None, max_depth=5, max_leaves=None,\n",
       "              min_child_weight=None, missing=nan, monotone_constraints=None,\n",
       "              multi_strategy=None, n_estimators=100, n_jobs=None,\n",
       "              num_parallel_tree=None, random_state=42, ...)</pre><b>In a Jupyter environment, please rerun this cell to show the HTML representation or trust the notebook. <br />On GitHub, the HTML representation is unable to render, please try loading this page with nbviewer.org.</b></div><div class=\"sk-container\" hidden><div class=\"sk-item\"><div class=\"sk-estimator sk-toggleable\"><input class=\"sk-toggleable__control sk-hidden--visually\" id=\"sk-estimator-id-1\" type=\"checkbox\" checked><label for=\"sk-estimator-id-1\" class=\"sk-toggleable__label sk-toggleable__label-arrow\">XGBClassifier</label><div class=\"sk-toggleable__content\"><pre>XGBClassifier(base_score=None, booster=None, callbacks=None,\n",
       "              colsample_bylevel=None, colsample_bynode=None,\n",
       "              colsample_bytree=None, device=None, early_stopping_rounds=None,\n",
       "              enable_categorical=False, eval_metric=&#x27;auc&#x27;, feature_types=None,\n",
       "              gamma=None, grow_policy=None, importance_type=None,\n",
       "              interaction_constraints=None, learning_rate=0.15, max_bin=None,\n",
       "              max_cat_threshold=None, max_cat_to_onehot=None,\n",
       "              max_delta_step=None, max_depth=5, max_leaves=None,\n",
       "              min_child_weight=None, missing=nan, monotone_constraints=None,\n",
       "              multi_strategy=None, n_estimators=100, n_jobs=None,\n",
       "              num_parallel_tree=None, random_state=42, ...)</pre></div></div></div></div></div>"
      ],
      "text/plain": [
       "XGBClassifier(base_score=None, booster=None, callbacks=None,\n",
       "              colsample_bylevel=None, colsample_bynode=None,\n",
       "              colsample_bytree=None, device=None, early_stopping_rounds=None,\n",
       "              enable_categorical=False, eval_metric='auc', feature_types=None,\n",
       "              gamma=None, grow_policy=None, importance_type=None,\n",
       "              interaction_constraints=None, learning_rate=0.15, max_bin=None,\n",
       "              max_cat_threshold=None, max_cat_to_onehot=None,\n",
       "              max_delta_step=None, max_depth=5, max_leaves=None,\n",
       "              min_child_weight=None, missing=nan, monotone_constraints=None,\n",
       "              multi_strategy=None, n_estimators=100, n_jobs=None,\n",
       "              num_parallel_tree=None, random_state=42, ...)"
      ]
     },
     "execution_count": 6,
     "metadata": {},
     "output_type": "execute_result"
    }
   ],
   "source": [
    "# XGBoost 모델 학습\n",
    "model = XGBClassifier(\n",
    "    n_estimators=100,  # 트리 개수\n",
    "    max_depth=5,       # 최대 깊이\n",
    "    learning_rate=0.15, # 학습률\n",
    "    random_state=42,\n",
    "    use_label_encoder=False,  # 경고 방지\n",
    "    eval_metric=\"auc\",        # 평가 지표 설정\n",
    ")\n",
    "\n",
    "# 학습 및 Validation 성능 모니터링\n",
    "eval_set = [(X_train, y_train), (X_val, y_val)]\n",
    "model.fit(\n",
    "    X_train, y_train,\n",
    "    eval_set=eval_set,\n",
    "    verbose=True,  # 학습 로그 출력\n",
    "    early_stopping_rounds=10  # 5번의 학습 동안 성능 개선 없을 시 조기 종료\n",
    ")"
   ]
  },
  {
   "cell_type": "code",
   "execution_count": 7,
   "id": "710f7e6d",
   "metadata": {
    "execution": {
     "iopub.execute_input": "2025-03-22T04:58:51.588299Z",
     "iopub.status.busy": "2025-03-22T04:58:51.587942Z",
     "iopub.status.idle": "2025-03-22T04:58:51.599591Z",
     "shell.execute_reply": "2025-03-22T04:58:51.598823Z"
    },
    "papermill": {
     "duration": 0.019734,
     "end_time": "2025-03-22T04:58:51.601273",
     "exception": false,
     "start_time": "2025-03-22T04:58:51.581539",
     "status": "completed"
    },
    "tags": []
   },
   "outputs": [],
   "source": [
    "# 채무 불이행 '확률'을 예측합니다.\n",
    "preds = model.predict_proba(test_df)[:,1]"
   ]
  },
  {
   "cell_type": "code",
   "execution_count": 8,
   "id": "83467078",
   "metadata": {
    "execution": {
     "iopub.execute_input": "2025-03-22T04:58:51.617086Z",
     "iopub.status.busy": "2025-03-22T04:58:51.616751Z",
     "iopub.status.idle": "2025-03-22T04:58:51.637986Z",
     "shell.execute_reply": "2025-03-22T04:58:51.637120Z"
    },
    "papermill": {
     "duration": 0.03107,
     "end_time": "2025-03-22T04:58:51.639830",
     "exception": false,
     "start_time": "2025-03-22T04:58:51.608760",
     "status": "completed"
    },
    "tags": []
   },
   "outputs": [],
   "source": [
    "submit = pd.read_csv('/kaggle/input/non-fulfillment/sample_submission.csv')\n",
    "\n",
    "# 결과 저장\n",
    "submit['채무 불이행 확률'] = preds\n",
    "submit.to_csv('./submission.csv', encoding='UTF-8-sig', index=False)"
   ]
  }
 ],
 "metadata": {
  "kaggle": {
   "accelerator": "none",
   "dataSources": [
    {
     "datasetId": 6936185,
     "sourceId": 11122844,
     "sourceType": "datasetVersion"
    }
   ],
   "dockerImageVersionId": 30918,
   "isGpuEnabled": false,
   "isInternetEnabled": true,
   "language": "python",
   "sourceType": "notebook"
  },
  "kernelspec": {
   "display_name": "Python 3",
   "language": "python",
   "name": "python3"
  },
  "language_info": {
   "codemirror_mode": {
    "name": "ipython",
    "version": 3
   },
   "file_extension": ".py",
   "mimetype": "text/x-python",
   "name": "python",
   "nbconvert_exporter": "python",
   "pygments_lexer": "ipython3",
   "version": "3.10.12"
  },
  "papermill": {
   "default_parameters": {},
   "duration": 6.264945,
   "end_time": "2025-03-22T04:58:52.365409",
   "environment_variables": {},
   "exception": null,
   "input_path": "__notebook__.ipynb",
   "output_path": "__notebook__.ipynb",
   "parameters": {},
   "start_time": "2025-03-22T04:58:46.100464",
   "version": "2.6.0"
  }
 },
 "nbformat": 4,
 "nbformat_minor": 5
}
