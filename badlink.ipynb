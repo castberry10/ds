{
 "cells": [
  {
   "cell_type": "code",
   "execution_count": 1,
   "id": "05c99262",
   "metadata": {
    "_cell_guid": "b1076dfc-b9ad-4769-8c92-a6c4dae69d19",
    "_uuid": "8f2839f25d086af736a60e9eeb907d3b93b6e0e5",
    "execution": {
     "iopub.execute_input": "2025-02-28T04:15:02.029806Z",
     "iopub.status.busy": "2025-02-28T04:15:02.029444Z",
     "iopub.status.idle": "2025-02-28T04:15:03.056741Z",
     "shell.execute_reply": "2025-02-28T04:15:03.054559Z"
    },
    "papermill": {
     "duration": 1.034841,
     "end_time": "2025-02-28T04:15:03.058894",
     "exception": false,
     "start_time": "2025-02-28T04:15:02.024053",
     "status": "completed"
    },
    "tags": []
   },
   "outputs": [
    {
     "name": "stdout",
     "output_type": "stream",
     "text": [
      "/kaggle/input/badurl/sample_submission.csv\n",
      "/kaggle/input/badurl/train.csv\n",
      "/kaggle/input/badurl/test.csv\n"
     ]
    }
   ],
   "source": [
    "# This Python 3 environment comes with many helpful analytics libraries installed\n",
    "# It is defined by the kaggle/python Docker image: https://github.com/kaggle/docker-python\n",
    "# For example, here's several helpful packages to load\n",
    "\n",
    "import numpy as np # linear algebra\n",
    "import pandas as pd # data processing, CSV file I/O (e.g. pd.read_csv)\n",
    "\n",
    "# Input data files are available in the read-only \"../input/\" directory\n",
    "# For example, running this (by clicking run or pressing Shift+Enter) will list all files under the input directory\n",
    "\n",
    "import os\n",
    "for dirname, _, filenames in os.walk('/kaggle/input'):\n",
    "    for filename in filenames:\n",
    "        print(os.path.join(dirname, filename))\n",
    "\n",
    "# You can write up to 20GB to the current directory (/kaggle/working/) that gets preserved as output when you create a version using \"Save & Run All\" \n",
    "# You can also write temporary files to /kaggle/temp/, but they won't be saved outside of the current session"
   ]
  },
  {
   "cell_type": "code",
   "execution_count": 2,
   "id": "04c7411c",
   "metadata": {
    "execution": {
     "iopub.execute_input": "2025-02-28T04:15:03.068263Z",
     "iopub.status.busy": "2025-02-28T04:15:03.067779Z",
     "iopub.status.idle": "2025-02-28T04:15:05.647031Z",
     "shell.execute_reply": "2025-02-28T04:15:05.645826Z"
    },
    "papermill": {
     "duration": 2.58635,
     "end_time": "2025-02-28T04:15:05.649391",
     "exception": false,
     "start_time": "2025-02-28T04:15:03.063041",
     "status": "completed"
    },
    "tags": []
   },
   "outputs": [],
   "source": [
    "import pandas as pd\n",
    "import numpy as np\n",
    "from sklearn.model_selection import KFold\n",
    "from sklearn.metrics import roc_auc_score\n",
    "from xgboost import XGBClassifier\n",
    "\n",
    "import seaborn as sns\n",
    "import matplotlib.pyplot as plt\n",
    "\n",
    "import warnings\n",
    "warnings.filterwarnings(action='ignore')"
   ]
  },
  {
   "cell_type": "code",
   "execution_count": 3,
   "id": "8a692848",
   "metadata": {
    "execution": {
     "iopub.execute_input": "2025-02-28T04:15:05.659068Z",
     "iopub.status.busy": "2025-02-28T04:15:05.658229Z",
     "iopub.status.idle": "2025-02-28T04:15:31.537412Z",
     "shell.execute_reply": "2025-02-28T04:15:31.535836Z"
    },
    "papermill": {
     "duration": 25.886683,
     "end_time": "2025-02-28T04:15:31.540071",
     "exception": false,
     "start_time": "2025-02-28T04:15:05.653388",
     "status": "completed"
    },
    "tags": []
   },
   "outputs": [],
   "source": [
    "# 학습/평가 데이터 로드\n",
    "# train_df = pd.read_csv('train.csv')\n",
    "# test_df = pd.read_csv('test.csv')\n",
    "\n",
    "train_df = pd.read_csv('/kaggle/input/badurl/train.csv')\n",
    "test_df = pd.read_csv('/kaggle/input/badurl/test.csv')\n",
    "# '[.]'을 '.'으로 복구\n",
    "train_df['URL'] = train_df['URL'].str.replace(r'\\[\\.\\]', '.', regex=True)\n",
    "test_df['URL'] = test_df['URL'].str.replace(r'\\[\\.\\]', '.', regex=True)"
   ]
  },
  {
   "cell_type": "code",
   "execution_count": 4,
   "id": "9ccb6278",
   "metadata": {
    "execution": {
     "iopub.execute_input": "2025-02-28T04:15:31.555192Z",
     "iopub.status.busy": "2025-02-28T04:15:31.554748Z",
     "iopub.status.idle": "2025-02-28T04:15:31.586809Z",
     "shell.execute_reply": "2025-02-28T04:15:31.585501Z"
    },
    "papermill": {
     "duration": 0.04172,
     "end_time": "2025-02-28T04:15:31.588793",
     "exception": false,
     "start_time": "2025-02-28T04:15:31.547073",
     "status": "completed"
    },
    "tags": []
   },
   "outputs": [
    {
     "data": {
      "text/html": [
       "<div>\n",
       "<style scoped>\n",
       "    .dataframe tbody tr th:only-of-type {\n",
       "        vertical-align: middle;\n",
       "    }\n",
       "\n",
       "    .dataframe tbody tr th {\n",
       "        vertical-align: top;\n",
       "    }\n",
       "\n",
       "    .dataframe thead th {\n",
       "        text-align: right;\n",
       "    }\n",
       "</style>\n",
       "<table border=\"1\" class=\"dataframe\">\n",
       "  <thead>\n",
       "    <tr style=\"text-align: right;\">\n",
       "      <th></th>\n",
       "      <th>ID</th>\n",
       "      <th>URL</th>\n",
       "      <th>label</th>\n",
       "    </tr>\n",
       "  </thead>\n",
       "  <tbody>\n",
       "    <tr>\n",
       "      <th>0</th>\n",
       "      <td>TRAIN_0000000</td>\n",
       "      <td>poznan.wuoz.gov.pl</td>\n",
       "      <td>0</td>\n",
       "    </tr>\n",
       "    <tr>\n",
       "      <th>1</th>\n",
       "      <td>TRAIN_0000001</td>\n",
       "      <td>vill.okawa.kochi.jp</td>\n",
       "      <td>0</td>\n",
       "    </tr>\n",
       "    <tr>\n",
       "      <th>2</th>\n",
       "      <td>TRAIN_0000002</td>\n",
       "      <td>nationalfinance.co.om</td>\n",
       "      <td>0</td>\n",
       "    </tr>\n",
       "    <tr>\n",
       "      <th>3</th>\n",
       "      <td>TRAIN_0000003</td>\n",
       "      <td>town.ozora.hokkaido.jp</td>\n",
       "      <td>0</td>\n",
       "    </tr>\n",
       "    <tr>\n",
       "      <th>4</th>\n",
       "      <td>TRAIN_0000004</td>\n",
       "      <td>open24.ie-news.irish/online/Login</td>\n",
       "      <td>1</td>\n",
       "    </tr>\n",
       "  </tbody>\n",
       "</table>\n",
       "</div>"
      ],
      "text/plain": [
       "              ID                                URL  label\n",
       "0  TRAIN_0000000                 poznan.wuoz.gov.pl      0\n",
       "1  TRAIN_0000001                vill.okawa.kochi.jp      0\n",
       "2  TRAIN_0000002              nationalfinance.co.om      0\n",
       "3  TRAIN_0000003             town.ozora.hokkaido.jp      0\n",
       "4  TRAIN_0000004  open24.ie-news.irish/online/Login      1"
      ]
     },
     "execution_count": 4,
     "metadata": {},
     "output_type": "execute_result"
    }
   ],
   "source": [
    "train_df.head()"
   ]
  },
  {
   "cell_type": "code",
   "execution_count": 5,
   "id": "428120d3",
   "metadata": {
    "execution": {
     "iopub.execute_input": "2025-02-28T04:15:31.598390Z",
     "iopub.status.busy": "2025-02-28T04:15:31.597988Z",
     "iopub.status.idle": "2025-02-28T04:15:31.607448Z",
     "shell.execute_reply": "2025-02-28T04:15:31.606212Z"
    },
    "papermill": {
     "duration": 0.016937,
     "end_time": "2025-02-28T04:15:31.609964",
     "exception": false,
     "start_time": "2025-02-28T04:15:31.593027",
     "status": "completed"
    },
    "tags": []
   },
   "outputs": [
    {
     "data": {
      "text/html": [
       "<div>\n",
       "<style scoped>\n",
       "    .dataframe tbody tr th:only-of-type {\n",
       "        vertical-align: middle;\n",
       "    }\n",
       "\n",
       "    .dataframe tbody tr th {\n",
       "        vertical-align: top;\n",
       "    }\n",
       "\n",
       "    .dataframe thead th {\n",
       "        text-align: right;\n",
       "    }\n",
       "</style>\n",
       "<table border=\"1\" class=\"dataframe\">\n",
       "  <thead>\n",
       "    <tr style=\"text-align: right;\">\n",
       "      <th></th>\n",
       "      <th>ID</th>\n",
       "      <th>URL</th>\n",
       "    </tr>\n",
       "  </thead>\n",
       "  <tbody>\n",
       "    <tr>\n",
       "      <th>0</th>\n",
       "      <td>TEST_0000000</td>\n",
       "      <td>niquelarte.blogspot.com.es</td>\n",
       "    </tr>\n",
       "    <tr>\n",
       "      <th>1</th>\n",
       "      <td>TEST_0000001</td>\n",
       "      <td>northernmetalproducts.com</td>\n",
       "    </tr>\n",
       "    <tr>\n",
       "      <th>2</th>\n",
       "      <td>TEST_0000002</td>\n",
       "      <td>ga.de</td>\n",
       "    </tr>\n",
       "    <tr>\n",
       "      <th>3</th>\n",
       "      <td>TEST_0000003</td>\n",
       "      <td>florawww.eeb.uconn.edu/199300089.html</td>\n",
       "    </tr>\n",
       "    <tr>\n",
       "      <th>4</th>\n",
       "      <td>TEST_0000004</td>\n",
       "      <td>activecity.moscow</td>\n",
       "    </tr>\n",
       "  </tbody>\n",
       "</table>\n",
       "</div>"
      ],
      "text/plain": [
       "             ID                                    URL\n",
       "0  TEST_0000000             niquelarte.blogspot.com.es\n",
       "1  TEST_0000001              northernmetalproducts.com\n",
       "2  TEST_0000002                                  ga.de\n",
       "3  TEST_0000003  florawww.eeb.uconn.edu/199300089.html\n",
       "4  TEST_0000004                      activecity.moscow"
      ]
     },
     "execution_count": 5,
     "metadata": {},
     "output_type": "execute_result"
    }
   ],
   "source": [
    "test_df.head()"
   ]
  },
  {
   "cell_type": "code",
   "execution_count": 6,
   "id": "4378c891",
   "metadata": {
    "execution": {
     "iopub.execute_input": "2025-02-28T04:15:31.620069Z",
     "iopub.status.busy": "2025-02-28T04:15:31.619674Z",
     "iopub.status.idle": "2025-02-28T04:16:07.186751Z",
     "shell.execute_reply": "2025-02-28T04:16:07.185229Z"
    },
    "papermill": {
     "duration": 35.574301,
     "end_time": "2025-02-28T04:16:07.188845",
     "exception": false,
     "start_time": "2025-02-28T04:15:31.614544",
     "status": "completed"
    },
    "tags": []
   },
   "outputs": [],
   "source": [
    "# URL 길이\n",
    "train_df['length'] = train_df['URL'].str.len()\n",
    "test_df['length'] = test_df['URL'].str.len()\n",
    "\n",
    "# 서브도메인 개수\n",
    "train_df['subdomain_count'] = train_df['URL'].str.split('.').apply(lambda x: len(x) - 2)\n",
    "test_df['subdomain_count'] = test_df['URL'].str.split('.').apply(lambda x: len(x) - 2)\n",
    "\n",
    "# 특수 문자('-', '_', '/') 개수\n",
    "train_df['special_char_count'] = train_df['URL'].apply(lambda x: sum(1 for c in x if c in '-_/'))\n",
    "test_df['special_char_count'] = test_df['URL'].apply(lambda x: sum(1 for c in x if c in '-_/'))"
   ]
  },
  {
   "cell_type": "code",
   "execution_count": 7,
   "id": "a7f29669",
   "metadata": {
    "execution": {
     "iopub.execute_input": "2025-02-28T04:16:07.198633Z",
     "iopub.status.busy": "2025-02-28T04:16:07.198239Z",
     "iopub.status.idle": "2025-02-28T04:16:12.663222Z",
     "shell.execute_reply": "2025-02-28T04:16:12.661947Z"
    },
    "papermill": {
     "duration": 5.472044,
     "end_time": "2025-02-28T04:16:12.665197",
     "exception": false,
     "start_time": "2025-02-28T04:16:07.193153",
     "status": "completed"
    },
    "tags": []
   },
   "outputs": [
    {
     "data": {
      "image/png": "[encoded data removed]",
      "text/plain": [
       "<Figure size 800x500 with 1 Axes>"
      ]
     },
     "metadata": {},
     "output_type": "display_data"
    },
    {
     "data": {
      "image/png": "[encoded data removed]",
      "text/plain": [
       "<Figure size 800x500 with 1 Axes>"
      ]
     },
     "metadata": {},
     "output_type": "display_data"
    },
    {
     "data": {
      "image/png": "[encoded data removed]",
      "text/plain": [
       "<Figure size 800x500 with 1 Axes>"
      ]
     },
     "metadata": {},
     "output_type": "display_data"
    }
   ],
   "source": [
    "## 악성 여부에 따른 분포 확인\n",
    "# 변수 목록\n",
    "variables = ['length', 'subdomain_count', 'special_char_count']\n",
    "\n",
    "# 박스플롯\n",
    "for var in variables:\n",
    "    plt.figure(figsize=(8, 5))\n",
    "    sns.boxplot(data=train_df, x='label', y=var)\n",
    "    plt.title(f\"Boxplot of {var} by is_malicious\")\n",
    "    plt.xlabel(\"is_malicious\")\n",
    "    plt.ylabel(var)\n",
    "    plt.xticks([0, 1], ['Non-Malicious', 'Malicious'])\n",
    "    plt.show()"
   ]
  },
  {
   "cell_type": "code",
   "execution_count": 8,
   "id": "feced058",
   "metadata": {
    "execution": {
     "iopub.execute_input": "2025-02-28T04:16:12.680395Z",
     "iopub.status.busy": "2025-02-28T04:16:12.680000Z",
     "iopub.status.idle": "2025-02-28T04:16:13.757502Z",
     "shell.execute_reply": "2025-02-28T04:16:13.756200Z"
    },
    "papermill": {
     "duration": 1.088166,
     "end_time": "2025-02-28T04:16:13.759949",
     "exception": false,
     "start_time": "2025-02-28T04:16:12.671783",
     "status": "completed"
    },
    "tags": []
   },
   "outputs": [
    {
     "data": {
      "image/png": "[encoded data removed]",
      "text/plain": [
       "<Figure size 800x600 with 2 Axes>"
      ]
     },
     "metadata": {},
     "output_type": "display_data"
    }
   ],
   "source": [
    "# 상관계수 계산\n",
    "correlation_matrix = train_df[['length', 'subdomain_count', 'special_char_count', 'label']].corr()\n",
    "\n",
    "# 히트맵 시각화\n",
    "plt.figure(figsize=(8, 6))\n",
    "sns.heatmap(correlation_matrix, annot=True, fmt=\".2f\")\n",
    "plt.title(\"Correlation Matrix\")\n",
    "plt.show()"
   ]
  },
  {
   "cell_type": "code",
   "execution_count": 9,
   "id": "de1ac8ce",
   "metadata": {
    "execution": {
     "iopub.execute_input": "2025-02-28T04:16:13.776531Z",
     "iopub.status.busy": "2025-02-28T04:16:13.776123Z",
     "iopub.status.idle": "2025-02-28T04:16:13.882651Z",
     "shell.execute_reply": "2025-02-28T04:16:13.881502Z"
    },
    "papermill": {
     "duration": 0.117227,
     "end_time": "2025-02-28T04:16:13.884904",
     "exception": false,
     "start_time": "2025-02-28T04:16:13.767677",
     "status": "completed"
    },
    "tags": []
   },
   "outputs": [],
   "source": [
    "# 학습을 위한 학습 데이터의 피처와 라벨 준비\n",
    "X = train_df[['length', 'subdomain_count', 'special_char_count']]\n",
    "y = train_df['label']\n",
    "\n",
    "# 추론을 위한 평가 데이터의 피처 준비\n",
    "X_test = test_df[['length', 'subdomain_count', 'special_char_count']]"
   ]
  },
  {
   "cell_type": "code",
   "execution_count": 10,
   "id": "e8bcf4ea",
   "metadata": {
    "execution": {
     "iopub.execute_input": "2025-02-28T04:16:13.901343Z",
     "iopub.status.busy": "2025-02-28T04:16:13.900932Z",
     "iopub.status.idle": "2025-02-28T04:20:10.853733Z",
     "shell.execute_reply": "2025-02-28T04:20:10.852293Z"
    },
    "papermill": {
     "duration": 236.963269,
     "end_time": "2025-02-28T04:20:10.855785",
     "exception": false,
     "start_time": "2025-02-28T04:16:13.892516",
     "status": "completed"
    },
    "tags": []
   },
   "outputs": [
    {
     "name": "stdout",
     "output_type": "stream",
     "text": [
      "----------------------------------------\n",
      "Fold 1 번째 XGBoost 모델을 학습합니다.\n",
      "Epoch|         Train AUC             |         Validation AUC\n",
      "[0]\tvalidation_0-auc:0.86098\tvalidation_1-auc:0.86053\n",
      "[1]\tvalidation_0-auc:0.86337\tvalidation_1-auc:0.86287\n",
      "[2]\tvalidation_0-auc:0.86432\tvalidation_1-auc:0.86388\n",
      "[3]\tvalidation_0-auc:0.86457\tvalidation_1-auc:0.86413\n",
      "[4]\tvalidation_0-auc:0.86456\tvalidation_1-auc:0.86413\n",
      "[5]\tvalidation_0-auc:0.86460\tvalidation_1-auc:0.86418\n",
      "[6]\tvalidation_0-auc:0.86465\tvalidation_1-auc:0.86422\n",
      "[7]\tvalidation_0-auc:0.86461\tvalidation_1-auc:0.86420\n",
      "[8]\tvalidation_0-auc:0.86477\tvalidation_1-auc:0.86437\n",
      "[9]\tvalidation_0-auc:0.86501\tvalidation_1-auc:0.86460\n",
      "[10]\tvalidation_0-auc:0.86512\tvalidation_1-auc:0.86472\n",
      "[11]\tvalidation_0-auc:0.86524\tvalidation_1-auc:0.86484\n",
      "[12]\tvalidation_0-auc:0.86525\tvalidation_1-auc:0.86485\n",
      "[13]\tvalidation_0-auc:0.86534\tvalidation_1-auc:0.86494\n",
      "[14]\tvalidation_0-auc:0.86536\tvalidation_1-auc:0.86497\n",
      "[15]\tvalidation_0-auc:0.86538\tvalidation_1-auc:0.86498\n",
      "[16]\tvalidation_0-auc:0.86541\tvalidation_1-auc:0.86500\n",
      "[17]\tvalidation_0-auc:0.86547\tvalidation_1-auc:0.86506\n",
      "[18]\tvalidation_0-auc:0.86547\tvalidation_1-auc:0.86507\n",
      "[19]\tvalidation_0-auc:0.86551\tvalidation_1-auc:0.86511\n",
      "[20]\tvalidation_0-auc:0.86554\tvalidation_1-auc:0.86514\n",
      "[21]\tvalidation_0-auc:0.86553\tvalidation_1-auc:0.86513\n",
      "[22]\tvalidation_0-auc:0.86571\tvalidation_1-auc:0.86530\n",
      "[23]\tvalidation_0-auc:0.86573\tvalidation_1-auc:0.86532\n",
      "[24]\tvalidation_0-auc:0.86586\tvalidation_1-auc:0.86545\n",
      "[25]\tvalidation_0-auc:0.86590\tvalidation_1-auc:0.86548\n",
      "[26]\tvalidation_0-auc:0.86598\tvalidation_1-auc:0.86558\n",
      "[27]\tvalidation_0-auc:0.86602\tvalidation_1-auc:0.86561\n",
      "[28]\tvalidation_0-auc:0.86607\tvalidation_1-auc:0.86567\n",
      "[29]\tvalidation_0-auc:0.86608\tvalidation_1-auc:0.86567\n",
      "[30]\tvalidation_0-auc:0.86609\tvalidation_1-auc:0.86567\n",
      "[31]\tvalidation_0-auc:0.86616\tvalidation_1-auc:0.86574\n",
      "[32]\tvalidation_0-auc:0.86619\tvalidation_1-auc:0.86577\n",
      "[33]\tvalidation_0-auc:0.86621\tvalidation_1-auc:0.86579\n",
      "[34]\tvalidation_0-auc:0.86622\tvalidation_1-auc:0.86579\n",
      "[35]\tvalidation_0-auc:0.86626\tvalidation_1-auc:0.86583\n",
      "[36]\tvalidation_0-auc:0.86627\tvalidation_1-auc:0.86584\n",
      "[37]\tvalidation_0-auc:0.86629\tvalidation_1-auc:0.86586\n",
      "[38]\tvalidation_0-auc:0.86629\tvalidation_1-auc:0.86586\n",
      "[39]\tvalidation_0-auc:0.86631\tvalidation_1-auc:0.86588\n",
      "[40]\tvalidation_0-auc:0.86632\tvalidation_1-auc:0.86589\n",
      "[41]\tvalidation_0-auc:0.86635\tvalidation_1-auc:0.86593\n",
      "[42]\tvalidation_0-auc:0.86637\tvalidation_1-auc:0.86594\n",
      "[43]\tvalidation_0-auc:0.86637\tvalidation_1-auc:0.86595\n",
      "[44]\tvalidation_0-auc:0.86643\tvalidation_1-auc:0.86600\n",
      "[45]\tvalidation_0-auc:0.86657\tvalidation_1-auc:0.86614\n",
      "[46]\tvalidation_0-auc:0.86668\tvalidation_1-auc:0.86623\n",
      "[47]\tvalidation_0-auc:0.86673\tvalidation_1-auc:0.86629\n",
      "[48]\tvalidation_0-auc:0.86675\tvalidation_1-auc:0.86630\n",
      "[49]\tvalidation_0-auc:0.86675\tvalidation_1-auc:0.86631\n",
      "[50]\tvalidation_0-auc:0.86682\tvalidation_1-auc:0.86636\n",
      "[51]\tvalidation_0-auc:0.86682\tvalidation_1-auc:0.86636\n",
      "[52]\tvalidation_0-auc:0.86682\tvalidation_1-auc:0.86636\n",
      "[53]\tvalidation_0-auc:0.86684\tvalidation_1-auc:0.86638\n",
      "[54]\tvalidation_0-auc:0.86685\tvalidation_1-auc:0.86639\n",
      "[55]\tvalidation_0-auc:0.86685\tvalidation_1-auc:0.86639\n",
      "[56]\tvalidation_0-auc:0.86687\tvalidation_1-auc:0.86641\n",
      "[57]\tvalidation_0-auc:0.86687\tvalidation_1-auc:0.86641\n",
      "[58]\tvalidation_0-auc:0.86688\tvalidation_1-auc:0.86642\n",
      "[59]\tvalidation_0-auc:0.86690\tvalidation_1-auc:0.86644\n",
      "[60]\tvalidation_0-auc:0.86690\tvalidation_1-auc:0.86645\n",
      "[61]\tvalidation_0-auc:0.86692\tvalidation_1-auc:0.86646\n",
      "[62]\tvalidation_0-auc:0.86692\tvalidation_1-auc:0.86646\n",
      "[63]\tvalidation_0-auc:0.86692\tvalidation_1-auc:0.86646\n",
      "[64]\tvalidation_0-auc:0.86693\tvalidation_1-auc:0.86647\n",
      "[65]\tvalidation_0-auc:0.86693\tvalidation_1-auc:0.86647\n",
      "[66]\tvalidation_0-auc:0.86694\tvalidation_1-auc:0.86648\n",
      "[67]\tvalidation_0-auc:0.86694\tvalidation_1-auc:0.86648\n",
      "[68]\tvalidation_0-auc:0.86698\tvalidation_1-auc:0.86651\n",
      "[69]\tvalidation_0-auc:0.86698\tvalidation_1-auc:0.86652\n",
      "[70]\tvalidation_0-auc:0.86699\tvalidation_1-auc:0.86653\n",
      "[71]\tvalidation_0-auc:0.86700\tvalidation_1-auc:0.86654\n",
      "[72]\tvalidation_0-auc:0.86705\tvalidation_1-auc:0.86659\n",
      "[73]\tvalidation_0-auc:0.86707\tvalidation_1-auc:0.86662\n",
      "[74]\tvalidation_0-auc:0.86707\tvalidation_1-auc:0.86662\n",
      "[75]\tvalidation_0-auc:0.86707\tvalidation_1-auc:0.86662\n",
      "[76]\tvalidation_0-auc:0.86708\tvalidation_1-auc:0.86662\n",
      "[77]\tvalidation_0-auc:0.86711\tvalidation_1-auc:0.86666\n",
      "[78]\tvalidation_0-auc:0.86714\tvalidation_1-auc:0.86668\n",
      "[79]\tvalidation_0-auc:0.86715\tvalidation_1-auc:0.86669\n",
      "[80]\tvalidation_0-auc:0.86715\tvalidation_1-auc:0.86670\n",
      "[81]\tvalidation_0-auc:0.86716\tvalidation_1-auc:0.86672\n",
      "[82]\tvalidation_0-auc:0.86716\tvalidation_1-auc:0.86672\n",
      "[83]\tvalidation_0-auc:0.86716\tvalidation_1-auc:0.86672\n",
      "[84]\tvalidation_0-auc:0.86717\tvalidation_1-auc:0.86673\n",
      "[85]\tvalidation_0-auc:0.86718\tvalidation_1-auc:0.86673\n",
      "[86]\tvalidation_0-auc:0.86718\tvalidation_1-auc:0.86673\n",
      "[87]\tvalidation_0-auc:0.86719\tvalidation_1-auc:0.86674\n",
      "[88]\tvalidation_0-auc:0.86720\tvalidation_1-auc:0.86675\n",
      "[89]\tvalidation_0-auc:0.86720\tvalidation_1-auc:0.86675\n",
      "[90]\tvalidation_0-auc:0.86722\tvalidation_1-auc:0.86677\n",
      "[91]\tvalidation_0-auc:0.86726\tvalidation_1-auc:0.86680\n",
      "[92]\tvalidation_0-auc:0.86726\tvalidation_1-auc:0.86680\n",
      "[93]\tvalidation_0-auc:0.86726\tvalidation_1-auc:0.86680\n",
      "[94]\tvalidation_0-auc:0.86726\tvalidation_1-auc:0.86680\n",
      "[95]\tvalidation_0-auc:0.86726\tvalidation_1-auc:0.86680\n",
      "[96]\tvalidation_0-auc:0.86726\tvalidation_1-auc:0.86680\n",
      "[97]\tvalidation_0-auc:0.86728\tvalidation_1-auc:0.86682\n",
      "[98]\tvalidation_0-auc:0.86730\tvalidation_1-auc:0.86684\n",
      "[99]\tvalidation_0-auc:0.86732\tvalidation_1-auc:0.86686\n",
      "Fold 1 CV ROC-AUC: 0.8669\n",
      "----------------------------------------\n",
      "----------------------------------------\n",
      "Fold 2 번째 XGBoost 모델을 학습합니다.\n",
      "Epoch|         Train AUC             |         Validation AUC\n",
      "[0]\tvalidation_0-auc:0.86198\tvalidation_1-auc:0.86234\n",
      "[1]\tvalidation_0-auc:0.86405\tvalidation_1-auc:0.86441\n",
      "[2]\tvalidation_0-auc:0.86452\tvalidation_1-auc:0.86488\n",
      "[3]\tvalidation_0-auc:0.86425\tvalidation_1-auc:0.86464\n",
      "[4]\tvalidation_0-auc:0.86408\tvalidation_1-auc:0.86447\n",
      "[5]\tvalidation_0-auc:0.86430\tvalidation_1-auc:0.86469\n",
      "[6]\tvalidation_0-auc:0.86439\tvalidation_1-auc:0.86479\n",
      "[7]\tvalidation_0-auc:0.86463\tvalidation_1-auc:0.86503\n",
      "[8]\tvalidation_0-auc:0.86474\tvalidation_1-auc:0.86514\n",
      "[9]\tvalidation_0-auc:0.86495\tvalidation_1-auc:0.86534\n",
      "[10]\tvalidation_0-auc:0.86511\tvalidation_1-auc:0.86551\n",
      "[11]\tvalidation_0-auc:0.86515\tvalidation_1-auc:0.86554\n",
      "[12]\tvalidation_0-auc:0.86514\tvalidation_1-auc:0.86553\n",
      "[13]\tvalidation_0-auc:0.86513\tvalidation_1-auc:0.86552\n",
      "[14]\tvalidation_0-auc:0.86515\tvalidation_1-auc:0.86553\n",
      "[15]\tvalidation_0-auc:0.86515\tvalidation_1-auc:0.86553\n",
      "[16]\tvalidation_0-auc:0.86516\tvalidation_1-auc:0.86554\n",
      "Fold 2 CV ROC-AUC: 0.8655\n",
      "----------------------------------------\n",
      "----------------------------------------\n",
      "Fold 3 번째 XGBoost 모델을 학습합니다.\n",
      "Epoch|         Train AUC             |         Validation AUC\n",
      "[0]\tvalidation_0-auc:0.86102\tvalidation_1-auc:0.86077\n",
      "[1]\tvalidation_0-auc:0.86336\tvalidation_1-auc:0.86309\n",
      "[2]\tvalidation_0-auc:0.86437\tvalidation_1-auc:0.86412\n",
      "[3]\tvalidation_0-auc:0.86445\tvalidation_1-auc:0.86419\n",
      "[4]\tvalidation_0-auc:0.86444\tvalidation_1-auc:0.86419\n",
      "[5]\tvalidation_0-auc:0.86451\tvalidation_1-auc:0.86426\n",
      "[6]\tvalidation_0-auc:0.86468\tvalidation_1-auc:0.86443\n",
      "[7]\tvalidation_0-auc:0.86489\tvalidation_1-auc:0.86464\n",
      "[8]\tvalidation_0-auc:0.86500\tvalidation_1-auc:0.86477\n",
      "[9]\tvalidation_0-auc:0.86509\tvalidation_1-auc:0.86485\n",
      "[10]\tvalidation_0-auc:0.86517\tvalidation_1-auc:0.86493\n",
      "[11]\tvalidation_0-auc:0.86527\tvalidation_1-auc:0.86504\n",
      "[12]\tvalidation_0-auc:0.86524\tvalidation_1-auc:0.86502\n",
      "[13]\tvalidation_0-auc:0.86533\tvalidation_1-auc:0.86510\n",
      "[14]\tvalidation_0-auc:0.86539\tvalidation_1-auc:0.86517\n",
      "[15]\tvalidation_0-auc:0.86538\tvalidation_1-auc:0.86516\n",
      "[16]\tvalidation_0-auc:0.86545\tvalidation_1-auc:0.86522\n",
      "[17]\tvalidation_0-auc:0.86546\tvalidation_1-auc:0.86524\n",
      "[18]\tvalidation_0-auc:0.86553\tvalidation_1-auc:0.86531\n",
      "[19]\tvalidation_0-auc:0.86558\tvalidation_1-auc:0.86535\n",
      "[20]\tvalidation_0-auc:0.86562\tvalidation_1-auc:0.86539\n",
      "[21]\tvalidation_0-auc:0.86567\tvalidation_1-auc:0.86544\n",
      "[22]\tvalidation_0-auc:0.86569\tvalidation_1-auc:0.86546\n",
      "[23]\tvalidation_0-auc:0.86575\tvalidation_1-auc:0.86552\n",
      "[24]\tvalidation_0-auc:0.86582\tvalidation_1-auc:0.86557\n",
      "[25]\tvalidation_0-auc:0.86590\tvalidation_1-auc:0.86565\n",
      "[26]\tvalidation_0-auc:0.86594\tvalidation_1-auc:0.86569\n",
      "[27]\tvalidation_0-auc:0.86595\tvalidation_1-auc:0.86571\n",
      "[28]\tvalidation_0-auc:0.86596\tvalidation_1-auc:0.86571\n",
      "[29]\tvalidation_0-auc:0.86594\tvalidation_1-auc:0.86570\n",
      "[30]\tvalidation_0-auc:0.86605\tvalidation_1-auc:0.86580\n",
      "[31]\tvalidation_0-auc:0.86605\tvalidation_1-auc:0.86580\n",
      "[32]\tvalidation_0-auc:0.86609\tvalidation_1-auc:0.86584\n",
      "[33]\tvalidation_0-auc:0.86614\tvalidation_1-auc:0.86588\n",
      "[34]\tvalidation_0-auc:0.86615\tvalidation_1-auc:0.86589\n",
      "[35]\tvalidation_0-auc:0.86614\tvalidation_1-auc:0.86589\n",
      "[36]\tvalidation_0-auc:0.86616\tvalidation_1-auc:0.86590\n",
      "[37]\tvalidation_0-auc:0.86617\tvalidation_1-auc:0.86591\n",
      "[38]\tvalidation_0-auc:0.86619\tvalidation_1-auc:0.86593\n",
      "[39]\tvalidation_0-auc:0.86637\tvalidation_1-auc:0.86611\n",
      "[40]\tvalidation_0-auc:0.86642\tvalidation_1-auc:0.86616\n",
      "[41]\tvalidation_0-auc:0.86643\tvalidation_1-auc:0.86617\n",
      "[42]\tvalidation_0-auc:0.86650\tvalidation_1-auc:0.86624\n",
      "[43]\tvalidation_0-auc:0.86652\tvalidation_1-auc:0.86626\n",
      "[44]\tvalidation_0-auc:0.86653\tvalidation_1-auc:0.86628\n",
      "[45]\tvalidation_0-auc:0.86654\tvalidation_1-auc:0.86628\n",
      "[46]\tvalidation_0-auc:0.86654\tvalidation_1-auc:0.86627\n",
      "[47]\tvalidation_0-auc:0.86655\tvalidation_1-auc:0.86629\n",
      "[48]\tvalidation_0-auc:0.86665\tvalidation_1-auc:0.86639\n",
      "[49]\tvalidation_0-auc:0.86673\tvalidation_1-auc:0.86646\n",
      "[50]\tvalidation_0-auc:0.86674\tvalidation_1-auc:0.86647\n",
      "[51]\tvalidation_0-auc:0.86678\tvalidation_1-auc:0.86651\n",
      "[52]\tvalidation_0-auc:0.86682\tvalidation_1-auc:0.86655\n",
      "[53]\tvalidation_0-auc:0.86682\tvalidation_1-auc:0.86656\n",
      "[54]\tvalidation_0-auc:0.86686\tvalidation_1-auc:0.86659\n",
      "[55]\tvalidation_0-auc:0.86686\tvalidation_1-auc:0.86658\n",
      "[56]\tvalidation_0-auc:0.86688\tvalidation_1-auc:0.86661\n",
      "[57]\tvalidation_0-auc:0.86691\tvalidation_1-auc:0.86663\n",
      "[58]\tvalidation_0-auc:0.86691\tvalidation_1-auc:0.86664\n",
      "[59]\tvalidation_0-auc:0.86692\tvalidation_1-auc:0.86664\n",
      "[60]\tvalidation_0-auc:0.86693\tvalidation_1-auc:0.86665\n",
      "[61]\tvalidation_0-auc:0.86694\tvalidation_1-auc:0.86665\n",
      "[62]\tvalidation_0-auc:0.86694\tvalidation_1-auc:0.86665\n",
      "[63]\tvalidation_0-auc:0.86694\tvalidation_1-auc:0.86666\n",
      "[64]\tvalidation_0-auc:0.86695\tvalidation_1-auc:0.86667\n",
      "[65]\tvalidation_0-auc:0.86695\tvalidation_1-auc:0.86667\n",
      "[66]\tvalidation_0-auc:0.86698\tvalidation_1-auc:0.86670\n",
      "[67]\tvalidation_0-auc:0.86698\tvalidation_1-auc:0.86670\n",
      "[68]\tvalidation_0-auc:0.86700\tvalidation_1-auc:0.86672\n",
      "[69]\tvalidation_0-auc:0.86701\tvalidation_1-auc:0.86673\n",
      "[70]\tvalidation_0-auc:0.86702\tvalidation_1-auc:0.86673\n",
      "[71]\tvalidation_0-auc:0.86702\tvalidation_1-auc:0.86674\n",
      "[72]\tvalidation_0-auc:0.86703\tvalidation_1-auc:0.86675\n",
      "[73]\tvalidation_0-auc:0.86705\tvalidation_1-auc:0.86676\n",
      "[74]\tvalidation_0-auc:0.86705\tvalidation_1-auc:0.86676\n",
      "[75]\tvalidation_0-auc:0.86705\tvalidation_1-auc:0.86676\n",
      "[76]\tvalidation_0-auc:0.86706\tvalidation_1-auc:0.86677\n",
      "[77]\tvalidation_0-auc:0.86707\tvalidation_1-auc:0.86678\n",
      "[78]\tvalidation_0-auc:0.86708\tvalidation_1-auc:0.86679\n",
      "[79]\tvalidation_0-auc:0.86711\tvalidation_1-auc:0.86682\n",
      "[80]\tvalidation_0-auc:0.86711\tvalidation_1-auc:0.86682\n",
      "[81]\tvalidation_0-auc:0.86711\tvalidation_1-auc:0.86682\n",
      "[82]\tvalidation_0-auc:0.86712\tvalidation_1-auc:0.86683\n",
      "[83]\tvalidation_0-auc:0.86713\tvalidation_1-auc:0.86684\n",
      "[84]\tvalidation_0-auc:0.86715\tvalidation_1-auc:0.86686\n",
      "[85]\tvalidation_0-auc:0.86715\tvalidation_1-auc:0.86686\n",
      "[86]\tvalidation_0-auc:0.86717\tvalidation_1-auc:0.86688\n",
      "[87]\tvalidation_0-auc:0.86717\tvalidation_1-auc:0.86688\n",
      "[88]\tvalidation_0-auc:0.86717\tvalidation_1-auc:0.86688\n",
      "[89]\tvalidation_0-auc:0.86717\tvalidation_1-auc:0.86688\n",
      "[90]\tvalidation_0-auc:0.86718\tvalidation_1-auc:0.86689\n",
      "[91]\tvalidation_0-auc:0.86718\tvalidation_1-auc:0.86689\n",
      "[92]\tvalidation_0-auc:0.86718\tvalidation_1-auc:0.86689\n",
      "[93]\tvalidation_0-auc:0.86718\tvalidation_1-auc:0.86689\n",
      "[94]\tvalidation_0-auc:0.86718\tvalidation_1-auc:0.86689\n",
      "[95]\tvalidation_0-auc:0.86718\tvalidation_1-auc:0.86689\n",
      "[96]\tvalidation_0-auc:0.86719\tvalidation_1-auc:0.86690\n",
      "[97]\tvalidation_0-auc:0.86720\tvalidation_1-auc:0.86691\n",
      "[98]\tvalidation_0-auc:0.86722\tvalidation_1-auc:0.86693\n",
      "[99]\tvalidation_0-auc:0.86722\tvalidation_1-auc:0.86693\n",
      "Fold 3 CV ROC-AUC: 0.8669\n",
      "----------------------------------------\n",
      "----------------------------------------\n",
      "Fold 4 번째 XGBoost 모델을 학습합니다.\n",
      "Epoch|         Train AUC             |         Validation AUC\n",
      "[0]\tvalidation_0-auc:0.86210\tvalidation_1-auc:0.86237\n",
      "[1]\tvalidation_0-auc:0.86408\tvalidation_1-auc:0.86427\n",
      "[2]\tvalidation_0-auc:0.86465\tvalidation_1-auc:0.86482\n",
      "[3]\tvalidation_0-auc:0.86450\tvalidation_1-auc:0.86469\n",
      "[4]\tvalidation_0-auc:0.86424\tvalidation_1-auc:0.86447\n",
      "[5]\tvalidation_0-auc:0.86435\tvalidation_1-auc:0.86457\n",
      "[6]\tvalidation_0-auc:0.86444\tvalidation_1-auc:0.86465\n",
      "[7]\tvalidation_0-auc:0.86474\tvalidation_1-auc:0.86493\n",
      "[8]\tvalidation_0-auc:0.86471\tvalidation_1-auc:0.86488\n",
      "[9]\tvalidation_0-auc:0.86492\tvalidation_1-auc:0.86509\n",
      "[10]\tvalidation_0-auc:0.86516\tvalidation_1-auc:0.86532\n",
      "[11]\tvalidation_0-auc:0.86511\tvalidation_1-auc:0.86527\n",
      "[12]\tvalidation_0-auc:0.86513\tvalidation_1-auc:0.86528\n",
      "[13]\tvalidation_0-auc:0.86515\tvalidation_1-auc:0.86529\n",
      "[14]\tvalidation_0-auc:0.86513\tvalidation_1-auc:0.86527\n",
      "[15]\tvalidation_0-auc:0.86514\tvalidation_1-auc:0.86527\n",
      "Fold 4 CV ROC-AUC: 0.8653\n",
      "----------------------------------------\n",
      "K-Fold 평균 ROC-AUC: 0.8662\n"
     ]
    }
   ],
   "source": [
    "# XGBoost 학습 및 모델 저장 (K-Fold)\n",
    "kf = KFold(n_splits=4, shuffle=True, random_state=42)\n",
    "models = []  # 모델을 저장할 리스트\n",
    "auc_scores = []\n",
    "\n",
    "for idx, (train_idx, val_idx) in enumerate(kf.split(X)):\n",
    "    X_train, X_val = X.iloc[train_idx], X.iloc[val_idx]\n",
    "    y_train, y_val = y.iloc[train_idx], y.iloc[val_idx]\n",
    "    \n",
    "    print('-'*40)\n",
    "    print(f'Fold {idx + 1} 번째 XGBoost 모델을 학습합니다.')\n",
    "    print('Epoch|         Train AUC             |         Validation AUC')\n",
    "    \n",
    "    # XGBoost 모델 학습\n",
    "    model = XGBClassifier(\n",
    "        n_estimators=100, \n",
    "        max_depth=6,       \n",
    "        learning_rate=0.1, \n",
    "        random_state=42,\n",
    "        use_label_encoder=False,  \n",
    "        eval_metric=\"auc\",        \n",
    "    )\n",
    "    \n",
    "    # 학습 및 Validation 성능 모니터링\n",
    "    eval_set = [(X_train, y_train), (X_val, y_val)]\n",
    "    model.fit(\n",
    "        X_train, y_train,\n",
    "        eval_set=eval_set,\n",
    "        verbose=True,  \n",
    "        early_stopping_rounds=5  \n",
    "    )\n",
    "    \n",
    "    models.append(model)  # 모델 저장\n",
    "    \n",
    "    # 검증 데이터 예측 및 ROC-AUC 계산\n",
    "    y_val_pred_prob = model.predict_proba(X_val)[:, 1]\n",
    "    auc = roc_auc_score(y_val, y_val_pred_prob)\n",
    "    print(f\"Fold {idx + 1} CV ROC-AUC: {auc:.4f}\")\n",
    "    print('-'*40)\n",
    "    auc_scores.append(auc)\n",
    "\n",
    "print(f\"K-Fold 평균 ROC-AUC: {np.mean(auc_scores):.4f}\")"
   ]
  },
  {
   "cell_type": "code",
   "execution_count": 11,
   "id": "93053f44",
   "metadata": {
    "execution": {
     "iopub.execute_input": "2025-02-28T04:20:10.902414Z",
     "iopub.status.busy": "2025-02-28T04:20:10.902010Z",
     "iopub.status.idle": "2025-02-28T04:20:14.895024Z",
     "shell.execute_reply": "2025-02-28T04:20:14.893377Z"
    },
    "papermill": {
     "duration": 4.018639,
     "end_time": "2025-02-28T04:20:14.896837",
     "exception": false,
     "start_time": "2025-02-28T04:20:10.878198",
     "status": "completed"
    },
    "tags": []
   },
   "outputs": [
    {
     "name": "stdout",
     "output_type": "stream",
     "text": [
      "Inference Done.\n"
     ]
    }
   ],
   "source": [
    "# 평가 데이터 추론\n",
    "# 각 Fold 별 모델의 예측 확률 계산\n",
    "test_probabilities = np.zeros(len(X_test)) \n",
    "\n",
    "for model in models:\n",
    "    test_probabilities += model.predict_proba(X_test)[:, 1]  # 악성 URL(1)일 확률 합산\n",
    "\n",
    "# Soft-Voting 앙상블 (Fold 별 모델들의 예측 확률 평균)\n",
    "test_probabilities /= len(models)\n",
    "print('Inference Done.')"
   ]
  },
  {
   "cell_type": "code",
   "execution_count": 12,
   "id": "3c7d026c",
   "metadata": {
    "execution": {
     "iopub.execute_input": "2025-02-28T04:20:14.941121Z",
     "iopub.status.busy": "2025-02-28T04:20:14.940744Z",
     "iopub.status.idle": "2025-02-28T04:20:18.545905Z",
     "shell.execute_reply": "2025-02-28T04:20:18.544510Z"
    },
    "papermill": {
     "duration": 3.629625,
     "end_time": "2025-02-28T04:20:18.547962",
     "exception": false,
     "start_time": "2025-02-28T04:20:14.918337",
     "status": "completed"
    },
    "tags": []
   },
   "outputs": [
    {
     "name": "stdout",
     "output_type": "stream",
     "text": [
      "Done.\n"
     ]
    }
   ],
   "source": [
    "# 결과 저장\n",
    "test_df['probability'] = test_probabilities\n",
    "test_df[['ID', 'probability']].to_csv('./submission.csv', index=False)\n",
    "print('Done.')"
   ]
  }
 ],
 "metadata": {
  "kaggle": {
   "accelerator": "none",
   "dataSources": [
    {
     "datasetId": 6757700,
     "sourceId": 10876155,
     "sourceType": "datasetVersion"
    }
   ],
   "dockerImageVersionId": 30918,
   "isGpuEnabled": false,
   "isInternetEnabled": true,
   "language": "python",
   "sourceType": "notebook"
  },
  "kernelspec": {
   "display_name": "Python 3",
   "language": "python",
   "name": "python3"
  },
  "language_info": {
   "codemirror_mode": {
    "name": "ipython",
    "version": 3
   },
   "file_extension": ".py",
   "mimetype": "text/x-python",
   "name": "python",
   "nbconvert_exporter": "python",
   "pygments_lexer": "ipython3",
   "version": "3.10.12"
  },
  "papermill": {
   "default_parameters": {},
   "duration": 320.942693,
   "end_time": "2025-02-28T04:20:19.792562",
   "environment_variables": {},
   "exception": null,
   "input_path": "__notebook__.ipynb",
   "output_path": "__notebook__.ipynb",
   "parameters": {},
   "start_time": "2025-02-28T04:14:58.849869",
   "version": "2.6.0"
  }
 },
 "nbformat": 4,
 "nbformat_minor": 5
}
